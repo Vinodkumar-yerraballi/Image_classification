{
  "nbformat": 4,
  "nbformat_minor": 0,
  "metadata": {
    "colab": {
      "provenance": [],
      "collapsed_sections": []
    },
    "kernelspec": {
      "name": "python3",
      "display_name": "Python 3"
    },
    "language_info": {
      "name": "python"
    },
    "accelerator": "GPU",
    "gpuClass": "standard"
  },
  "cells": [
    {
      "cell_type": "code",
      "execution_count": 67,
      "metadata": {
        "id": "9V37kK0IOzZM"
      },
      "outputs": [],
      "source": [
        "#import the necassary libriaries\n",
        "import tensorflow as tf\n",
        "import numpy as np\n",
        "from tensorflow.keras.preprocessing.image import ImageDataGenerator\n",
        "from tensorflow.keras.layers import Dense,Flatten,Input\n",
        "from sklearn.metrics import confusion_matrix\n",
        "from os import listdir\n",
        "from tensorflow.keras import layers\n",
        "import pandas as pd\n"
      ]
    },
    {
      "cell_type": "code",
      "source": [
        "#import the content from the google drive\n",
        "from google.colab import drive\n",
        "drive.mount('/content/drive')"
      ],
      "metadata": {
        "colab": {
          "base_uri": "https://localhost:8080/"
        },
        "id": "Khfzw3Zyw7Wd",
        "outputId": "e40b716b-9e06-4b04-a3fb-4232229e8063"
      },
      "execution_count": 68,
      "outputs": [
        {
          "output_type": "stream",
          "name": "stdout",
          "text": [
            "Drive already mounted at /content/drive; to attempt to forcibly remount, call drive.mount(\"/content/drive\", force_remount=True).\n"
          ]
        }
      ]
    },
    {
      "cell_type": "code",
      "source": [
        "#Read the train data to from the listdir\n",
        "data_list_model1=listdir('/content/drive/MyDrive/chest_xray/train')\n",
        "\n"
      ],
      "metadata": {
        "id": "cBdyx_DRQOwk"
      },
      "execution_count": 69,
      "outputs": []
    },
    {
      "cell_type": "code",
      "source": [
        "#Read the train and test data from the google drive\n",
        "Data_set_model2='/content/drive/MyDrive/chest_xray/val'\n",
        "train_dir='/content/drive/MyDrive/chest_xray/train'\n",
        "test_dir='/content/drive/MyDrive/chest_xray/test'"
      ],
      "metadata": {
        "id": "gVmf49StSE6I"
      },
      "execution_count": 70,
      "outputs": []
    },
    {
      "cell_type": "code",
      "source": [
        "#create the image shape variable with image size 150,150\n",
        "IMAGE_SIZE=(150,150)\n",
        "#create the class\n",
        "NUM_CLASSES=len(data_list_model1)\n",
        "#Ceate_batch size with bacth number\n",
        "BATCH_SIZE=10\n",
        "#Create epochs\n",
        "NUM_EPOCHS=100\n",
        "#Create learning rate\n",
        "LEARNING_RATE=0.0001\n"
      ],
      "metadata": {
        "id": "BKbtzzH7SzOs"
      },
      "execution_count": 71,
      "outputs": []
    },
    {
      "cell_type": "code",
      "source": [
        "#Train datagen\n",
        "train_datagen=ImageDataGenerator(rescale=1./255,rotation_range=50,featurewise_center=True,featurewise_std_normalization=True,width_shift_range=0.2,height_shift_range=0.2,shear_range=0.25,zoom_range=0.1,zca_whitening=True,channel_shift_range=20,horizontal_flip=True,vertical_flip=True,fill_mode='constant')"
      ],
      "metadata": {
        "id": "vcmsDolyTNJ0",
        "colab": {
          "base_uri": "https://localhost:8080/"
        },
        "outputId": "8d2daac1-07e7-4987-9bfa-c3b04657ef1b"
      },
      "execution_count": 72,
      "outputs": [
        {
          "output_type": "stream",
          "name": "stderr",
          "text": [
            "/usr/local/lib/python3.7/dist-packages/keras_preprocessing/image/image_data_generator.py:342: UserWarning: This ImageDataGenerator specifies `zca_whitening` which overrides setting of`featurewise_std_normalization`.\n",
            "  warnings.warn('This ImageDataGenerator specifies '\n"
          ]
        }
      ]
    },
    {
      "cell_type": "code",
      "source": [
        "#Trian data\n",
        "train_batches=train_datagen.flow_from_directory(Data_set_model2,target_size=IMAGE_SIZE,shuffle=True,batch_size=BATCH_SIZE,subset='training',seed=42,class_mode='categorical')"
      ],
      "metadata": {
        "colab": {
          "base_uri": "https://localhost:8080/"
        },
        "id": "jaePbCrrT5H5",
        "outputId": "86f9da2e-38ee-46cd-feb1-36bbdf2720a3"
      },
      "execution_count": 73,
      "outputs": [
        {
          "output_type": "stream",
          "name": "stdout",
          "text": [
            "Found 16 images belonging to 2 classes.\n"
          ]
        }
      ]
    },
    {
      "cell_type": "code",
      "source": [
        "#Validation\n",
        "Validation_batches=train_datagen.flow_from_directory(Data_set_model2,target_size=IMAGE_SIZE,shuffle=True,batch_size=BATCH_SIZE,subset='validation',seed=42,class_mode='categorical')"
      ],
      "metadata": {
        "colab": {
          "base_uri": "https://localhost:8080/"
        },
        "id": "uFs913weUdJI",
        "outputId": "62b82bdc-1ad4-4607-e878-3289d9126cea"
      },
      "execution_count": 74,
      "outputs": [
        {
          "output_type": "stream",
          "name": "stdout",
          "text": [
            "Found 0 images belonging to 2 classes.\n"
          ]
        }
      ]
    },
    {
      "cell_type": "code",
      "source": [
        "#Create vgg16 model for detection the x_ray  with the paramenters\n",
        "vgg16_model=tf.keras.applications.VGG16(\n",
        "    include_top=False,\n",
        "    weights=\"imagenet\",\n",
        "    input_tensor=Input(shape=(150,150,3))\n",
        ")\n"
      ],
      "metadata": {
        "id": "y1IaNihwVdtC"
      },
      "execution_count": 75,
      "outputs": []
    },
    {
      "cell_type": "code",
      "source": [
        "#Create a for loop for vgg16 model and trainble\n",
        "for layer in vgg16_model.layers[:-4]:\n",
        "  layer.trainable=False\n",
        "#Install the Sequental model \n",
        "model2c=tf.keras.Sequential()\n",
        "#add the vgg16 model to the sequential\n",
        "model2c.add(vgg16_model)\n",
        "#Faltte the data\n",
        "model2c.add(Flatten())\n",
        "#Add the dense layer with 64, and relu activation function\n",
        "model2c.add(Dense(64,activation='relu'))\n",
        "#Add the another dense layer with 2, and add activation softmax function\n",
        "model2c.add(layers.Dense(2,activation='softmax'))\n"
      ],
      "metadata": {
        "id": "1JJbTg1oV-t4"
      },
      "execution_count": 76,
      "outputs": []
    },
    {
      "cell_type": "code",
      "source": [
        "#Complie the model with categroical_crossentropt with adam optimers and accuracyscore\n",
        "model2c.compile(loss='categorical_crossentropy',optimizer=tf.keras.optimizers.Adam(lr=LEARNING_RATE),metrics=['accuracy'])"
      ],
      "metadata": {
        "id": "eR_DoL1thOcJ",
        "colab": {
          "base_uri": "https://localhost:8080/"
        },
        "outputId": "92e9ee43-6908-43ac-b202-7f2bdffb58ef"
      },
      "execution_count": 77,
      "outputs": [
        {
          "output_type": "stream",
          "name": "stderr",
          "text": [
            "/usr/local/lib/python3.7/dist-packages/keras/optimizer_v2/adam.py:105: UserWarning: The `lr` argument is deprecated, use `learning_rate` instead.\n",
            "  super(Adam, self).__init__(name, **kwargs)\n"
          ]
        }
      ]
    },
    {
      "cell_type": "code",
      "source": [
        "#Create the train varablw with multplication train_batcehes with n and divided with train_batch and multplication with batch size same as test data\n",
        "STEP_SIZE_TRAIN=train_batches.n//train_batches.batch_size\n",
        "STEP_SIZE_TEST=Validation_batches.n//Validation_batches.batch_size"
      ],
      "metadata": {
        "id": "TOgslAmPch3y"
      },
      "execution_count": 78,
      "outputs": []
    },
    {
      "cell_type": "code",
      "source": [
        "#fit the model to the trian data with epochs 5 \n",
        "model2c.fit_generator(train_batches,steps_per_epoch=STEP_SIZE_TRAIN,epochs=5,verbose=True)"
      ],
      "metadata": {
        "colab": {
          "base_uri": "https://localhost:8080/"
        },
        "id": "KBSeU-mggATb",
        "outputId": "ee8ed8cc-0653-4099-ead4-41242d3c10dd"
      },
      "execution_count": 79,
      "outputs": [
        {
          "output_type": "stream",
          "name": "stderr",
          "text": [
            "/usr/local/lib/python3.7/dist-packages/ipykernel_launcher.py:2: UserWarning: `Model.fit_generator` is deprecated and will be removed in a future version. Please use `Model.fit`, which supports generators.\n",
            "  \n",
            "/usr/local/lib/python3.7/dist-packages/keras_preprocessing/image/image_data_generator.py:720: UserWarning: This ImageDataGenerator specifies `featurewise_center`, but it hasn't been fit on any training data. Fit it first by calling `.fit(numpy_data)`.\n",
            "  warnings.warn('This ImageDataGenerator specifies '\n",
            "/usr/local/lib/python3.7/dist-packages/keras_preprocessing/image/image_data_generator.py:739: UserWarning: This ImageDataGenerator specifies `zca_whitening`, but it hasn't been fit on any training data. Fit it first by calling `.fit(numpy_data)`.\n",
            "  warnings.warn('This ImageDataGenerator specifies '\n"
          ]
        },
        {
          "output_type": "stream",
          "name": "stdout",
          "text": [
            "Epoch 1/5\n",
            "1/1 [==============================] - 1s 786ms/step - loss: 0.6425 - accuracy: 0.5000\n",
            "Epoch 2/5\n",
            "1/1 [==============================] - 0s 231ms/step - loss: 1.0371 - accuracy: 0.4000\n",
            "Epoch 3/5\n",
            "1/1 [==============================] - 0s 212ms/step - loss: 0.6071 - accuracy: 0.6000\n",
            "Epoch 4/5\n",
            "1/1 [==============================] - 0s 222ms/step - loss: 0.6597 - accuracy: 0.7000\n",
            "Epoch 5/5\n",
            "1/1 [==============================] - 0s 230ms/step - loss: 0.5998 - accuracy: 0.7000\n"
          ]
        },
        {
          "output_type": "execute_result",
          "data": {
            "text/plain": [
              "<keras.callbacks.History at 0x7fefad59a810>"
            ]
          },
          "metadata": {},
          "execution_count": 79
        }
      ]
    },
    {
      "cell_type": "code",
      "source": [
        "#rescale the image \n",
        "train_DataGenerator=ImageDataGenerator(rescale=1./255)"
      ],
      "metadata": {
        "id": "ngxlxMewgQFQ"
      },
      "execution_count": 80,
      "outputs": []
    },
    {
      "cell_type": "code",
      "source": [
        "#Create the train data with parameters\n",
        "Train_bactches=train_DataGenerator.flow_from_directory(train_dir,target_size=IMAGE_SIZE,batch_size=1,shuffle=False,seed=42,class_mode='categorical')\n",
        "Train_bactches.reset()"
      ],
      "metadata": {
        "colab": {
          "base_uri": "https://localhost:8080/"
        },
        "id": "_8-jonYuybpb",
        "outputId": "e438e727-9e64-4aa2-f0a4-7e3cd933e93c"
      },
      "execution_count": 81,
      "outputs": [
        {
          "output_type": "stream",
          "name": "stdout",
          "text": [
            "Found 776 images belonging to 2 classes.\n"
          ]
        }
      ]
    },
    {
      "cell_type": "code",
      "source": [
        "#And evaluate the model with tain data and steps\n",
        "TrainResult=model2c.evaluate_generator(Train_bactches,steps=len(Train_bactches),use_multiprocessing=False,verbose=1,workers=1)"
      ],
      "metadata": {
        "colab": {
          "base_uri": "https://localhost:8080/"
        },
        "id": "pIiTqxB4zF2e",
        "outputId": "e6f6c3b2-8c31-4d8c-bd38-ea0831cc17be"
      },
      "execution_count": 82,
      "outputs": [
        {
          "output_type": "stream",
          "name": "stderr",
          "text": [
            "/usr/local/lib/python3.7/dist-packages/ipykernel_launcher.py:2: UserWarning: `Model.evaluate_generator` is deprecated and will be removed in a future version. Please use `Model.evaluate`, which supports generators.\n",
            "  \n"
          ]
        },
        {
          "output_type": "stream",
          "name": "stdout",
          "text": [
            "776/776 [==============================] - 22s 28ms/step - loss: 0.6709 - accuracy: 0.5722\n"
          ]
        }
      ]
    },
    {
      "cell_type": "code",
      "source": [
        "#Print the train loss and accuracy score\n",
        "print('Train Loss:',TrainResult[0],'Train accuracy:',TrainResult[1])"
      ],
      "metadata": {
        "colab": {
          "base_uri": "https://localhost:8080/"
        },
        "id": "8qfj9DmNzjko",
        "outputId": "9e592e36-7c06-44d3-f341-870510d3ae2d"
      },
      "execution_count": 83,
      "outputs": [
        {
          "output_type": "stream",
          "name": "stdout",
          "text": [
            "Train Loss: 0.6709201335906982 Train accuracy: 0.5721649527549744\n"
          ]
        }
      ]
    },
    {
      "cell_type": "code",
      "source": [
        "#Predictions\n",
        "prediction=model2c.predict_generator(Train_bactches,steps=len(Train_bactches))\n",
        "prediction_class=np.argmax(prediction,axis=1)"
      ],
      "metadata": {
        "colab": {
          "base_uri": "https://localhost:8080/"
        },
        "id": "l9S92bVez8QK",
        "outputId": "5cab048f-eaeb-4c1c-c0c7-10428723c1ec"
      },
      "execution_count": 84,
      "outputs": [
        {
          "output_type": "stream",
          "name": "stderr",
          "text": [
            "/usr/local/lib/python3.7/dist-packages/ipykernel_launcher.py:2: UserWarning: `Model.predict_generator` is deprecated and will be removed in a future version. Please use `Model.predict`, which supports generators.\n",
            "  \n"
          ]
        }
      ]
    },
    {
      "cell_type": "code",
      "source": [
        "#Let's print the confusion matrix\n",
        "print(confusion_matrix(Train_bactches.classes,prediction_class))"
      ],
      "metadata": {
        "colab": {
          "base_uri": "https://localhost:8080/"
        },
        "id": "cZkM9oYF1eq2",
        "outputId": "5a6d1f89-d1d4-4d1d-a37d-3573cc47dae7"
      },
      "execution_count": 85,
      "outputs": [
        {
          "output_type": "stream",
          "name": "stdout",
          "text": [
            "[[444 332]\n",
            " [  0   0]]\n"
          ]
        }
      ]
    },
    {
      "cell_type": "code",
      "source": [
        "#Again rescale the test data\n",
        "TEST_DataGenerator=ImageDataGenerator(rescale=1./255)"
      ],
      "metadata": {
        "id": "HV9v_V4e2XDy"
      },
      "execution_count": 86,
      "outputs": []
    },
    {
      "cell_type": "code",
      "source": [
        "#Create the train data with parameters\n",
        "TEST_batches=TEST_DataGenerator.flow_from_directory(test_dir,target_size=IMAGE_SIZE,batch_size=5,shuffle=False,seed=42,class_mode='categorical')\n",
        "#Reset the model\n",
        "TEST_batches.reset()\n",
        "#evaluate the generator with len test batches\n",
        "TESTResult=model2c.evaluate_generator(TEST_batches,steps=len(TEST_batches),use_multiprocessing=False,verbose=1,workers=1)\n",
        "#print the Test loss and accuracy score\n",
        "print('Test Loss:',TESTResult[0],'Test accuracy:',TESTResult[1])\n",
        "#train accuray_score\n",
        "prediction=model2c.predict_generator(TEST_batches,steps=len(TEST_batches))\n",
        "prediction_class=np.argmax(prediction,axis=1)"
      ],
      "metadata": {
        "colab": {
          "base_uri": "https://localhost:8080/"
        },
        "id": "VGy7K5BH1vm8",
        "outputId": "6ec57bce-3640-48bd-a09f-4041863ba4bc"
      },
      "execution_count": 65,
      "outputs": [
        {
          "output_type": "stream",
          "name": "stdout",
          "text": [
            "Found 624 images belonging to 2 classes.\n"
          ]
        },
        {
          "output_type": "stream",
          "name": "stderr",
          "text": [
            "/usr/local/lib/python3.7/dist-packages/ipykernel_launcher.py:6: UserWarning: `Model.evaluate_generator` is deprecated and will be removed in a future version. Please use `Model.evaluate`, which supports generators.\n",
            "  \n"
          ]
        },
        {
          "output_type": "stream",
          "name": "stdout",
          "text": [
            "125/125 [==============================] - 8s 60ms/step - loss: 0.5759 - accuracy: 0.6587\n",
            "Test Loss: 0.5759245157241821 Test accuracy: 0.6586538553237915\n"
          ]
        },
        {
          "output_type": "stream",
          "name": "stderr",
          "text": [
            "/usr/local/lib/python3.7/dist-packages/ipykernel_launcher.py:10: UserWarning: `Model.predict_generator` is deprecated and will be removed in a future version. Please use `Model.predict`, which supports generators.\n",
            "  # Remove the CWD from sys.path while we load stuff.\n"
          ]
        }
      ]
    },
    {
      "cell_type": "code",
      "source": [
        "#Let's print the confusion matrix\n",
        "print(confusion_matrix(TEST_batches.classes,prediction_class))"
      ],
      "metadata": {
        "colab": {
          "base_uri": "https://localhost:8080/"
        },
        "id": "8coDPZmx3QED",
        "outputId": "ec4819e9-5c68-478d-ed06-3713a3a92150"
      },
      "execution_count": 66,
      "outputs": [
        {
          "output_type": "stream",
          "name": "stdout",
          "text": [
            "[[ 21 213]\n",
            " [  0 390]]\n"
          ]
        }
      ]
    },
    {
      "cell_type": "code",
      "source": [],
      "metadata": {
        "id": "GxlQEFeqC_EP"
      },
      "execution_count": 66,
      "outputs": []
    }
  ]
}